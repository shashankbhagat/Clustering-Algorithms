{
  "nbformat": 4,
  "nbformat_minor": 0,
  "metadata": {
    "colab": {
      "name": "k-mean Clustering.ipynb",
      "provenance": [],
      "authorship_tag": "ABX9TyPA9fuBV+yCBX8+stLWq4eY",
      "include_colab_link": true
    },
    "kernelspec": {
      "name": "python3",
      "display_name": "Python 3"
    }
  },
  "cells": [
    {
      "cell_type": "markdown",
      "metadata": {
        "id": "view-in-github",
        "colab_type": "text"
      },
      "source": [
        "<a href=\"https://colab.research.google.com/github/shashankbhagat/Clustering-Algorithms/blob/master/k_mean_Clustering.ipynb\" target=\"_parent\"><img src=\"https://colab.research.google.com/assets/colab-badge.svg\" alt=\"Open In Colab\"/></a>"
      ]
    },
    {
      "cell_type": "code",
      "metadata": {
        "id": "EplohoWgt2vl",
        "colab_type": "code",
        "colab": {}
      },
      "source": [
        "import pandas as pd\n",
        "import numpy as np\n",
        "import matplotlib.pyplot as plt\n",
        "%matplotlib inline"
      ],
      "execution_count": 0,
      "outputs": []
    },
    {
      "cell_type": "code",
      "metadata": {
        "id": "HRPP7gGnuRqv",
        "colab_type": "code",
        "colab": {}
      },
      "source": [
        "df=pd.DataFrame({'x': [12, 20, 28, 18, 29, 33, 24, 45, 45, 52, 51, 52, 55, 53, 55, 61, 64, 69, 72],\n",
        "    'y': [39, 36, 30, 52, 54, 46, 55, 59, 63, 70, 66, 63, 58, 23, 14, 8, 19, 7, 24]})"
      ],
      "execution_count": 0,
      "outputs": []
    },
    {
      "cell_type": "code",
      "metadata": {
        "id": "UJ2uVJSMugMX",
        "colab_type": "code",
        "colab": {
          "base_uri": "https://localhost:8080/",
          "height": 35
        },
        "outputId": "67257f48-779b-419e-b9aa-4864bef24c14"
      },
      "source": [
        "#initialisation stage\n",
        "\n",
        "np.random.seed(200)\n",
        "k=3\n",
        "max_x,max_y=max(df['x']),max(df['y'])\n",
        "centroids={i+1:[np.random.randint(0,max_x+1),np.random.randint(0,max_y)] for i in range(k)}\n",
        "centroids"
      ],
      "execution_count": 51,
      "outputs": [
        {
          "output_type": "execute_result",
          "data": {
            "text/plain": [
              "{1: [26, 16], 2: [68, 42], 3: [55, 14]}"
            ]
          },
          "metadata": {
            "tags": []
          },
          "execution_count": 51
        }
      ]
    },
    {
      "cell_type": "code",
      "metadata": {
        "id": "ovHkykeau7Tw",
        "colab_type": "code",
        "colab": {
          "base_uri": "https://localhost:8080/",
          "height": 324
        },
        "outputId": "2e3edd10-eae1-4693-d73d-03a28478d9c7"
      },
      "source": [
        "fig=plt.figure(figsize=(5,5))\n",
        "plt.scatter(df['x'],df['y'],c='y')\n",
        "colmap={1:'r',2:'g',3:'b'}\n",
        "for i in centroids.keys():\n",
        "  plt.scatter(*centroids[i],c=colmap[i])\n",
        "plt.xlim(0,max_x+10)\n",
        "plt.ylim(0,max_y+10)\n",
        "plt.show()"
      ],
      "execution_count": 52,
      "outputs": [
        {
          "output_type": "display_data",
          "data": {
            "image/png": "[encoded data removed]",
            "text/plain": [
              "<Figure size 360x360 with 1 Axes>"
            ]
          },
          "metadata": {
            "tags": []
          }
        }
      ]
    },
    {
      "cell_type": "code",
      "metadata": {
        "id": "H__RvM5jujtC",
        "colab_type": "code",
        "colab": {
          "base_uri": "https://localhost:8080/",
          "height": 121
        },
        "outputId": "96daccf4-8abc-4413-f623-13fbe58c9312"
      },
      "source": [
        "# assignment stage\n",
        "\n",
        "def assignment(df,centroids):\n",
        "  #euclidean distance\n",
        "  #sqrt((x2-x1)^2 + (y2-y1)^2)\n",
        "  for i in centroids.keys():\n",
        "    df['distance_from_%s' %(i)]=(\n",
        "        np.sqrt(\n",
        "            (df['x']-centroids[i][0])**2\n",
        "        + (df['y']-centroids[i][1])**2\n",
        "        )\n",
        "    )\n",
        "  #print(df.head())\n",
        "  centroid_distance_cols=['distance_from_%s'%(i) for i in centroids.keys()]\n",
        "  #print(centroid_distance_cols)\n",
        "  df['closest']=df.loc[:,centroid_distance_cols].idxmin(axis=1)\n",
        "  df['closest']=df['closest'].map(lambda x:\n",
        "                                   int(x.lstrip('distance_from_'))\n",
        "                                   )\n",
        "  df['color']= list(map(lambda x:colmap[x],df['closest']))\n",
        "  #df['closest'].map(lambda x:colmap[x])\n",
        "  #print(df.head())\n",
        "  return df\n",
        "\n",
        "df=assignment(df,centroids)\n",
        "print(df.head())\n",
        "  "
      ],
      "execution_count": 53,
      "outputs": [
        {
          "output_type": "stream",
          "text": [
            "    x   y  distance_from_1  distance_from_2  distance_from_3  closest color\n",
            "0  12  39        26.925824        56.080300        49.739320        1     r\n",
            "1  20  36        20.880613        48.373546        41.340053        1     r\n",
            "2  28  30        14.142136        41.761226        31.384710        1     r\n",
            "3  18  52        36.878178        50.990195        53.037722        1     r\n",
            "4  29  54        38.118237        40.804412        47.707442        1     r\n"
          ],
          "name": "stdout"
        }
      ]
    },
    {
      "cell_type": "code",
      "metadata": {
        "id": "vklSpLzezsxe",
        "colab_type": "code",
        "colab": {
          "base_uri": "https://localhost:8080/",
          "height": 324
        },
        "outputId": "b7a36573-c785-4201-ece6-f11c266ec5c4"
      },
      "source": [
        "fig=plt.figure(figsize=(5,5))\n",
        "plt.scatter(df['x'],df['y'],c=df['color'],alpha=0.5,edgecolors='y')\n",
        "for i in centroids.keys():\n",
        "  plt.scatter(*centroids[i],c=colmap[i])\n",
        "plt.xlim(0,max_x+10)\n",
        "plt.ylim(0,max_y+10)\n",
        "plt.show()"
      ],
      "execution_count": 54,
      "outputs": [
        {
          "output_type": "display_data",
          "data": {
            "image/png": "[encoded data removed]",
            "text/plain": [
              "<Figure size 360x360 with 1 Axes>"
            ]
          },
          "metadata": {
            "tags": []
          }
        }
      ]
    },
    {
      "cell_type": "code",
      "metadata": {
        "id": "O2YEpFan3foC",
        "colab_type": "code",
        "colab": {
          "base_uri": "https://localhost:8080/",
          "height": 35
        },
        "outputId": "94c4afb9-6cdf-4688-a49c-13c3c1c300a2"
      },
      "source": [
        "# update stage\n",
        "import copy\n",
        "old_centroids=copy.deepcopy(centroids)\n",
        "\n",
        "def update(centroids):\n",
        "  for i in centroids.keys():\n",
        "    centroids[i][0]=np.mean(df[df['closest']==i]['x'])\n",
        "    centroids[i][1]=np.mean(df[df['closest']==i]['y'])\n",
        "  return centroids\n",
        "\n",
        "centroids=update(centroids)\n",
        "print(centroids,old_centroids)\n"
      ],
      "execution_count": 55,
      "outputs": [
        {
          "output_type": "stream",
          "text": [
            "{1: [23.428571428571427, 44.57142857142857], 2: [53.142857142857146, 57.57142857142857], 3: [60.4, 14.2]} {1: [26, 16], 2: [68, 42], 3: [55, 14]}\n"
          ],
          "name": "stdout"
        }
      ]
    },
    {
      "cell_type": "code",
      "metadata": {
        "id": "PUPCBXQ09OvC",
        "colab_type": "code",
        "colab": {
          "base_uri": "https://localhost:8080/",
          "height": 324
        },
        "outputId": "563f3eb3-bdf8-452e-fb80-16c35d3e43de"
      },
      "source": [
        "fig=plt.figure(figsize=(5,5))\n",
        "ax=plt.axes()\n",
        "plt.scatter(df['x'],df['y'],c=df['color'],alpha=0.5,edgecolors='y')\n",
        "for i in centroids.keys():\n",
        "  plt.scatter(*centroids[i],c=colmap[i])\n",
        "plt.xlim(0,max_x+10)\n",
        "plt.ylim(0,max_y+10)\n",
        "\n",
        "for i in old_centroids.keys():\n",
        "  old_x=old_centroids[i][0]\n",
        "  old_y=old_centroids[i][1]\n",
        "  dx=(centroids[i][0]-old_centroids[i][0])*0.75\n",
        "  dy=(centroids[i][1]-old_centroids[i][1])*0.75\n",
        "  ax.arrow(old_x,old_y,dx,dy,head_width=2,head_length=3,fc=colmap[i],ec=colmap[i])\n",
        "plt.show()"
      ],
      "execution_count": 56,
      "outputs": [
        {
          "output_type": "display_data",
          "data": {
            "image/png": "[encoded data removed]",
            "text/plain": [
              "<Figure size 360x360 with 1 Axes>"
            ]
          },
          "metadata": {
            "tags": []
          }
        }
      ]
    },
    {
      "cell_type": "code",
      "metadata": {
        "id": "JnIdGRLM-i0w",
        "colab_type": "code",
        "colab": {
          "base_uri": "https://localhost:8080/",
          "height": 324
        },
        "outputId": "ff27c83d-4946-4c40-a8a6-1fc6cf844732"
      },
      "source": [
        "# repeat assignment step\n",
        "\n",
        "df=assignment(df,centroids)\n",
        "\n",
        "fig=plt.figure(figsize=(5,5))\n",
        "plt.scatter(df['x'],df['y'],c=df['color'],alpha=0.5,edgecolors='y')\n",
        "for i in centroids.keys():\n",
        "  plt.scatter(*centroids[i],c=colmap[i])\n",
        "plt.xlim(0,max_x+10)\n",
        "plt.ylim(0,max_y+10)\n",
        "plt.show()"
      ],
      "execution_count": 57,
      "outputs": [
        {
          "output_type": "display_data",
          "data": {
            "image/png": "[encoded data removed]",
            "text/plain": [
              "<Figure size 360x360 with 1 Axes>"
            ]
          },
          "metadata": {
            "tags": []
          }
        }
      ]
    },
    {
      "cell_type": "code",
      "metadata": {
        "id": "xugJ82gB_6zg",
        "colab_type": "code",
        "colab": {
          "base_uri": "https://localhost:8080/",
          "height": 341
        },
        "outputId": "2202b6e2-462e-42dc-b592-deb00fd0ea0a"
      },
      "source": [
        "# continue until no more changes\n",
        "cnt=1\n",
        "while True:\n",
        "  cnt+=1\n",
        "  closest_centroids=df['closest'].copy(deep=True)\n",
        "  centroids=update(centroids)\n",
        "  df=assignment(df,centroids)\n",
        "  if closest_centroids.equals(df['closest']):\n",
        "    break\n",
        "print('%s iterations to converge.'%(cnt))\n",
        "fig=plt.figure(figsize=(5,5))\n",
        "plt.scatter(df['x'],df['y'],c=df['color'],alpha=0.5,edgecolors='y')\n",
        "for i in centroids.keys():\n",
        "  plt.scatter(*centroids[i],c=colmap[i])\n",
        "plt.xlim(0,max_x+10)\n",
        "plt.ylim(0,max_y+10)\n",
        "plt.show()"
      ],
      "execution_count": 58,
      "outputs": [
        {
          "output_type": "stream",
          "text": [
            "2 iterations to converge.\n"
          ],
          "name": "stdout"
        },
        {
          "output_type": "display_data",
          "data": {
            "image/png": "[encoded data removed]",
            "text/plain": [
              "<Figure size 360x360 with 1 Axes>"
            ]
          },
          "metadata": {
            "tags": []
          }
        }
      ]
    },
    {
      "cell_type": "code",
      "metadata": {
        "id": "a8VSUScgBTaP",
        "colab_type": "code",
        "colab": {}
      },
      "source": [
        "from sklearn.cluster import KMeans\n",
        "\n",
        "df1 = pd.DataFrame({\n",
        "    'x': [12, 20, 28, 18, 29, 33, 24, 45, 45, 52, 51, 52, 55, 53, 55, 61, 64, 69, 72],\n",
        "    'y': [39, 36, 30, 52, 54, 46, 55, 59, 63, 70, 66, 63, 58, 23, 14, 8, 19, 7, 24]\n",
        "})"
      ],
      "execution_count": 0,
      "outputs": []
    },
    {
      "cell_type": "code",
      "metadata": {
        "id": "TJfd9txIGePx",
        "colab_type": "code",
        "colab": {
          "base_uri": "https://localhost:8080/",
          "height": 69
        },
        "outputId": "26d766ce-53cc-48c0-8617-a32d274581be"
      },
      "source": [
        "kmeans=KMeans(n_clusters=3)\n",
        "kmeans.fit(df1)"
      ],
      "execution_count": 60,
      "outputs": [
        {
          "output_type": "execute_result",
          "data": {
            "text/plain": [
              "KMeans(algorithm='auto', copy_x=True, init='k-means++', max_iter=300,\n",
              "       n_clusters=3, n_init=10, n_jobs=None, precompute_distances='auto',\n",
              "       random_state=None, tol=0.0001, verbose=0)"
            ]
          },
          "metadata": {
            "tags": []
          },
          "execution_count": 60
        }
      ]
    },
    {
      "cell_type": "code",
      "metadata": {
        "id": "WDUhrGu6GsxK",
        "colab_type": "code",
        "colab": {
          "base_uri": "https://localhost:8080/",
          "height": 87
        },
        "outputId": "bf335166-aada-4311-a656-6b8c3d8ff592"
      },
      "source": [
        "label=kmeans.predict(df1)\n",
        "centroids1=kmeans.cluster_centers_\n",
        "print(label)\n",
        "print(centroids1)"
      ],
      "execution_count": 61,
      "outputs": [
        {
          "output_type": "stream",
          "text": [
            "[1 1 1 1 1 1 1 2 2 2 2 2 2 0 0 0 0 0 0]\n",
            "[[62.33333333 15.83333333]\n",
            " [23.42857143 44.57142857]\n",
            " [50.         63.16666667]]\n"
          ],
          "name": "stdout"
        }
      ]
    },
    {
      "cell_type": "code",
      "metadata": {
        "id": "VJ9m6qKPHZXC",
        "colab_type": "code",
        "colab": {
          "base_uri": "https://localhost:8080/",
          "height": 324
        },
        "outputId": "6bad68b1-2847-4236-ca5b-3d145b2a21f3"
      },
      "source": [
        "fig=plt.figure(figsize=(5,5))\n",
        "colors=list(map(lambda x:colmap[x+1],label))\n",
        "\n",
        "plt.scatter(df1['x'],df1['y'],c=colors,alpha=0.5,edgecolors='y')\n",
        "for i,val in enumerate(centroids1):\n",
        "  plt.scatter(*centroids1[i],c=colmap[i+1])\n",
        "plt.xlim(0,max_x+10)\n",
        "plt.ylim(0,max_y+10)\n",
        "plt.show()"
      ],
      "execution_count": 63,
      "outputs": [
        {
          "output_type": "display_data",
          "data": {
            "image/png": "[encoded data removed]",
            "text/plain": [
              "<Figure size 360x360 with 1 Axes>"
            ]
          },
          "metadata": {
            "tags": []
          }
        }
      ]
    },
    {
      "cell_type": "code",
      "metadata": {
        "id": "A1uilDW9IiUc",
        "colab_type": "code",
        "colab": {}
      },
      "source": [
        ""
      ],
      "execution_count": 0,
      "outputs": []
    }
  ]
}